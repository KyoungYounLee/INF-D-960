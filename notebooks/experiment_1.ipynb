{
 "cells": [
  {
   "cell_type": "code",
   "execution_count": 1,
   "outputs": [
    {
     "name": "stdout",
     "output_type": "stream",
     "text": [
      "Project(student.id, student.name)\n",
      "    Select(student.country = 'germany')\n",
      "        Table(student)\n"
     ]
    }
   ],
   "source": [
    "from src.parser.parser import Parser\n",
    "\n",
    "parser = Parser()\n",
    "sql_query = \"select student.id, student.name from student where student.country ='germany'\"\n",
    "sql_query_parsed = parser.parse(sql_query)\n",
    "\n",
    "ra_converted = parser.convert_to_relational_algebra(sql_query_parsed)\n",
    "print(ra_converted)"
   ],
   "metadata": {
    "collapsed": false,
    "ExecuteTime": {
     "end_time": "2024-01-15T22:19:00.345418Z",
     "start_time": "2024-01-15T22:18:56.864040Z"
    }
   }
  },
  {
   "cell_type": "code",
   "execution_count": 2,
   "outputs": [
    {
     "name": "stdout",
     "output_type": "stream",
     "text": [
      "Project(department.name, employee.name)\n",
      "    Inner Join(Table(employee), Table(department), On employee.dept_id = department.id)\n",
      "        Table(employee)\n",
      "        Table(department)\n"
     ]
    }
   ],
   "source": [
    "sql_query_join = \"SELECT employee.name, department.name FROM employee, department WHERE employee.dept_id = department.id AND employee.age > 30\"\n",
    "\n",
    "sql_query_join_parsed = parser.parse(sql_query_join)\n",
    "ra_join_converted = parser.convert_to_relational_algebra(sql_query_join_parsed)\n",
    "print(ra_join_converted)"
   ],
   "metadata": {
    "collapsed": false,
    "ExecuteTime": {
     "end_time": "2024-01-15T22:19:00.408195Z",
     "start_time": "2024-01-15T22:19:00.352522Z"
    }
   }
  },
  {
   "cell_type": "code",
   "execution_count": 2,
   "outputs": [],
   "source": [],
   "metadata": {
    "collapsed": false,
    "ExecuteTime": {
     "end_time": "2024-01-15T22:19:00.408758Z",
     "start_time": "2024-01-15T22:19:00.391997Z"
    }
   }
  }
 ],
 "metadata": {
  "kernelspec": {
   "display_name": "Python 3",
   "language": "python",
   "name": "python3"
  },
  "language_info": {
   "codemirror_mode": {
    "name": "ipython",
    "version": 2
   },
   "file_extension": ".py",
   "mimetype": "text/x-python",
   "name": "python",
   "nbconvert_exporter": "python",
   "pygments_lexer": "ipython2",
   "version": "2.7.6"
  }
 },
 "nbformat": 4,
 "nbformat_minor": 0
}
