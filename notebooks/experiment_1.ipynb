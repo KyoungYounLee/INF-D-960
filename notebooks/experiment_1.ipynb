{
 "cells": [
  {
   "cell_type": "markdown",
   "source": [],
   "metadata": {
    "collapsed": false
   }
  },
  {
   "cell_type": "markdown",
   "source": [
    "### SQL-Abfragen in Relationale Algebra konvertieren\n",
    "**Einfache Abfrage**"
   ],
   "metadata": {
    "collapsed": false
   }
  },
  {
   "cell_type": "code",
   "execution_count": 13,
   "outputs": [
    {
     "name": "stdout",
     "output_type": "stream",
     "text": [
      "Project(student.id, student.name)\n",
      "    Select(student.country = 'germany')\n",
      "        Table(student)\n"
     ]
    }
   ],
   "source": [
    "from src.parser.parser import Parser\n",
    "\n",
    "parser = Parser()\n",
    "sql_query = \"select student.id, student.name from student where student.country ='germany'\"\n",
    "sql_query_parsed = parser.parse(sql_query)\n",
    "\n",
    "ra_converted = parser.convert_to_relational_algebra(sql_query_parsed)\n",
    "print(ra_converted)"
   ],
   "metadata": {
    "collapsed": false,
    "ExecuteTime": {
     "end_time": "2024-01-16T22:21:42.108742Z",
     "start_time": "2024-01-16T22:21:42.085618Z"
    }
   }
  },
  {
   "cell_type": "markdown",
   "source": [
    "**Join-Abfrage**"
   ],
   "metadata": {
    "collapsed": false
   }
  },
  {
   "cell_type": "code",
   "execution_count": 14,
   "outputs": [
    {
     "name": "stdout",
     "output_type": "stream",
     "text": [
      "Project(employee.name, department.name)\n",
      "    Inner Join(On employee.dept_id = department.id)\n",
      "        Select(employee.age > 30)\n",
      "            Table(employee)\n",
      "        Table(department)\n"
     ]
    }
   ],
   "source": [
    "sql_query_join = \"SELECT employee.name, department.name FROM employee, department WHERE employee.dept_id = department.id AND employee.age > 30\"\n",
    "\n",
    "sql_query_join_parsed = parser.parse(sql_query_join)\n",
    "ra_join_converted = parser.convert_to_relational_algebra(sql_query_join_parsed)\n",
    "print(ra_join_converted)"
   ],
   "metadata": {
    "collapsed": false,
    "ExecuteTime": {
     "end_time": "2024-01-16T22:21:42.111415Z",
     "start_time": "2024-01-16T22:21:42.094445Z"
    }
   }
  },
  {
   "cell_type": "markdown",
   "source": [
    "**Mehrere Joins**"
   ],
   "metadata": {
    "collapsed": false
   }
  },
  {
   "cell_type": "code",
   "execution_count": 15,
   "outputs": [
    {
     "name": "stdout",
     "output_type": "stream",
     "text": [
      "Project(a.id, d.year, c.price, b.name)\n",
      "    Inner Join(On c.id = d.c_id)\n",
      "        Inner Join(On b.id = c.b_id)\n",
      "            Table(c)\n",
      "            Inner Join(On a.id = b.a_id)\n",
      "                Select(a.name = 'lee')\n",
      "                    Table(a)\n",
      "                Table(b)\n",
      "        Table(d)\n"
     ]
    }
   ],
   "source": [
    "sql_query_join_2 = \"SELECT a.id, b.name, c.price, d.year FROM a, b, c, d WHERE a.id = b.a_id AND b.id = c.b_id AND c.id = d.c_id and a.name = 'lee'\"\n",
    "sql_query_join_2_parsed = parser.parse(sql_query_join_2)\n",
    "ra_join_2_converted = parser.convert_to_relational_algebra(sql_query_join_2_parsed)\n",
    "print(ra_join_2_converted)"
   ],
   "metadata": {
    "collapsed": false,
    "ExecuteTime": {
     "end_time": "2024-01-16T22:21:42.127290Z",
     "start_time": "2024-01-16T22:21:42.123194Z"
    }
   }
  },
  {
   "cell_type": "markdown",
   "source": [
    "**Group-By Abfrage**"
   ],
   "metadata": {
    "collapsed": false
   }
  },
  {
   "cell_type": "code",
   "execution_count": 16,
   "outputs": [
    {
     "name": "stdout",
     "output_type": "stream",
     "text": [
      "Project(employees.department, employees.employee_id)\n",
      "    GroupBy((employees.department, employees.year))\n",
      "        Inner Join(On employees.department_id = departments.id)\n",
      "            Table(departments)\n",
      "            Table(employees)\n"
     ]
    }
   ],
   "source": [
    "sql_query_groupby = \"SELECT employees.department, COUNT(employees.employee_id) FROM employees, departments where employees.department_id = departments.id GROUP BY employees.department, employees.year\"\n",
    "sql_query_groupby_parsed = parser.parse(sql_query_groupby)\n",
    "ra_groupby_converted = parser.convert_to_relational_algebra(sql_query_groupby_parsed)\n",
    "print(ra_groupby_converted)"
   ],
   "metadata": {
    "collapsed": false,
    "ExecuteTime": {
     "end_time": "2024-01-16T22:21:42.195317Z",
     "start_time": "2024-01-16T22:21:42.142024Z"
    }
   }
  }
 ],
 "metadata": {
  "kernelspec": {
   "display_name": "Python 3",
   "language": "python",
   "name": "python3"
  },
  "language_info": {
   "codemirror_mode": {
    "name": "ipython",
    "version": 2
   },
   "file_extension": ".py",
   "mimetype": "text/x-python",
   "name": "python",
   "nbconvert_exporter": "python",
   "pygments_lexer": "ipython2",
   "version": "2.7.6"
  }
 },
 "nbformat": 4,
 "nbformat_minor": 0
}
