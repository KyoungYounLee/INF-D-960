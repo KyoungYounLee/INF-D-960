{
 "cells": [
  {
   "cell_type": "markdown",
   "source": [],
   "metadata": {
    "collapsed": false
   }
  },
  {
   "cell_type": "markdown",
   "source": [
    "### SQL-Abfragen in Relationale Algebra konvertieren"
   ],
   "metadata": {
    "collapsed": false
   }
  },
  {
   "cell_type": "code",
   "execution_count": null,
   "outputs": [],
   "source": [
    "from postbound.vis import optimizer as opt_vis\n",
    "\n",
    "from src.parser.parser import Parser\n",
    "\n",
    "parser = Parser()\n",
    "\n",
    "sql_query_1 = \"select s.name,e.course from exams e, students s where s.id = e.sid and e.grade = (select min(e2.grade) from exams e2 where s.id = e2.sid);\"\n",
    "\n",
    "sql_query_2 = \"select s.name, e.course from   students s, exams e where  s.id=e.sid and (s.major = 'CS' or s.major = 'Games Eng') and e.grade>=(select avg(e2.grade)+1 from exams e2 where s.id=e2.sid or (e2.curriculum=s.major and s.year>e2.date))\"\n",
    "\n",
    "relalg_query_1 = parser.parse_relalg(sql_query_1)\n",
    "relalg_query_2 = parser.parse_relalg(sql_query_2)\n",
    "\n",
    "print(parser.str_relalg(relalg_query_1))\n",
    "print(relalg_query_1.inspect())\n",
    "print(relalg_query_2.inspect())\n",
    "\n",
    "opt_vis.plot_relalg(relalg_query_1)"
   ],
   "metadata": {
    "collapsed": false,
    "is_executing": true
   }
  },
  {
   "cell_type": "markdown",
   "source": [
    "### Optimierung?"
   ],
   "metadata": {
    "collapsed": false
   }
  },
  {
   "cell_type": "code",
   "execution_count": null,
   "outputs": [],
   "source": [
    "from src.optimizer.optimizer import Optimizer\n",
    "\n",
    "optimizer = Optimizer()\n",
    "print(relalg_query_2.inspect())\n",
    "t1, t2, dependent_join, d = optimizer.optimize_unnesting(relalg_query_2)\n",
    "\n",
    "print(t1.inspect())\n",
    "print(t2.inspect())\n",
    "print(dependent_join.inspect())\n",
    "print(d.inspect())\n",
    "\n",
    "opt_vis.plot_relalg(d)\n"
   ],
   "metadata": {
    "collapsed": false,
    "is_executing": true
   }
  },
  {
   "cell_type": "code",
   "execution_count": null,
   "outputs": [],
   "source": [],
   "metadata": {
    "collapsed": false,
    "is_executing": true
   }
  }
 ],
 "metadata": {
  "kernelspec": {
   "display_name": "Python 3",
   "language": "python",
   "name": "python3"
  },
  "language_info": {
   "codemirror_mode": {
    "name": "ipython",
    "version": 2
   },
   "file_extension": ".py",
   "mimetype": "text/x-python",
   "name": "python",
   "nbconvert_exporter": "python",
   "pygments_lexer": "ipython2",
   "version": "2.7.6"
  }
 },
 "nbformat": 4,
 "nbformat_minor": 0
}
