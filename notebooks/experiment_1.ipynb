{
 "cells": [
  {
   "cell_type": "code",
   "execution_count": 1,
   "outputs": [
    {
     "name": "stdout",
     "output_type": "stream",
     "text": [
      "Project(student.name, student.id)\n",
      "    Select(student.country = 'germany')\n",
      "        Table(student)\n"
     ]
    }
   ],
   "source": [
    "from src.parser.parser import Parser\n",
    "\n",
    "parser = Parser()\n",
    "sql_query = \"select student.id, student.name from student where student.country ='germany'\"\n",
    "sql_query_parsed = parser.parse(sql_query)\n",
    "\n",
    "ra_converted = parser.convert_to_relational_algebra(sql_query_parsed)\n",
    "print(ra_converted)"
   ],
   "metadata": {
    "collapsed": false,
    "ExecuteTime": {
     "end_time": "2024-01-16T18:50:50.775237Z",
     "start_time": "2024-01-16T18:50:48.846045Z"
    }
   }
  },
  {
   "cell_type": "code",
   "execution_count": 2,
   "outputs": [
    {
     "name": "stdout",
     "output_type": "stream",
     "text": [
      "Project(department.name, employee.name)\n",
      "    Inner Join(On employee.dept_id = department.id)\n",
      "        Table(department)\n",
      "        Select(employee.age > 30)\n",
      "            Table(employee)\n"
     ]
    }
   ],
   "source": [
    "sql_query_join = \"SELECT employee.name, department.name FROM employee, department WHERE employee.dept_id = department.id AND employee.age > 30\"\n",
    "\n",
    "sql_query_join_parsed = parser.parse(sql_query_join)\n",
    "ra_join_converted = parser.convert_to_relational_algebra(sql_query_join_parsed)\n",
    "print(ra_join_converted)"
   ],
   "metadata": {
    "collapsed": false,
    "ExecuteTime": {
     "end_time": "2024-01-16T18:50:50.845498Z",
     "start_time": "2024-01-16T18:50:50.790638Z"
    }
   }
  },
  {
   "cell_type": "code",
   "execution_count": 3,
   "outputs": [
    {
     "name": "stdout",
     "output_type": "stream",
     "text": [
      "Project(c.price, d.year, b.name, a.id)\n",
      "    Inner Join(On b.id = c.b_id)\n",
      "        Inner Join(On a.id = b.a_id)\n",
      "            Table(b)\n",
      "            Select(a.name = 'lee')\n",
      "                Table(a)\n",
      "        Inner Join(On c.id = d.c_id)\n",
      "            Table(d)\n",
      "            Table(c)\n"
     ]
    }
   ],
   "source": [
    "sql_query_join_2 = \"SELECT a.id, b.name, c.price, d.year FROM a, b, c, d WHERE a.id = b.a_id AND b.id = c.b_id AND c.id = d.c_id and a.name = 'lee'\"\n",
    "sql_query_join_2_parsed = parser.parse(sql_query_join_2)\n",
    "ra_join_2_converted = parser.convert_to_relational_algebra(sql_query_join_2_parsed)\n",
    "print(ra_join_2_converted)"
   ],
   "metadata": {
    "collapsed": false,
    "ExecuteTime": {
     "end_time": "2024-01-16T18:50:50.854301Z",
     "start_time": "2024-01-16T18:50:50.817068Z"
    }
   }
  }
 ],
 "metadata": {
  "kernelspec": {
   "display_name": "Python 3",
   "language": "python",
   "name": "python3"
  },
  "language_info": {
   "codemirror_mode": {
    "name": "ipython",
    "version": 2
   },
   "file_extension": ".py",
   "mimetype": "text/x-python",
   "name": "python",
   "nbconvert_exporter": "python",
   "pygments_lexer": "ipython2",
   "version": "2.7.6"
  }
 },
 "nbformat": 4,
 "nbformat_minor": 0
}
