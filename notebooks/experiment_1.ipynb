{
 "cells": [
  {
   "cell_type": "code",
   "execution_count": 1,
   "outputs": [
    {
     "name": "stdout",
     "output_type": "stream",
     "text": [
      "Project(student.name, student.id)\n",
      "    Select(student.country = 'germany')\n",
      "        Table(student)\n"
     ]
    }
   ],
   "source": [
    "from src.parser.parser import Parser\n",
    "\n",
    "parser = Parser()\n",
    "sql_query = \"select student.id, student.name from student where student.country ='germany'\"\n",
    "sql_query_parsed = parser.parse(sql_query)\n",
    "\n",
    "ra_converted = parser.convert_to_relational_algebra(sql_query_parsed)\n",
    "print(ra_converted)"
   ],
   "metadata": {
    "collapsed": false,
    "ExecuteTime": {
     "end_time": "2024-01-14T23:21:44.548533Z",
     "start_time": "2024-01-14T23:21:42.521641Z"
    }
   }
  }
 ],
 "metadata": {
  "kernelspec": {
   "display_name": "Python 3",
   "language": "python",
   "name": "python3"
  },
  "language_info": {
   "codemirror_mode": {
    "name": "ipython",
    "version": 2
   },
   "file_extension": ".py",
   "mimetype": "text/x-python",
   "name": "python",
   "nbconvert_exporter": "python",
   "pygments_lexer": "ipython2",
   "version": "2.7.6"
  }
 },
 "nbformat": 4,
 "nbformat_minor": 0
}
